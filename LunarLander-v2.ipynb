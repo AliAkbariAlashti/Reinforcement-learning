{
 "cells": [
  {
   "cell_type": "markdown",
   "id": "65980795",
   "metadata": {},
   "source": [
    "# DQN on LunarLander-v2"
   ]
  },
  {
   "cell_type": "code",
   "execution_count": null,
   "id": "36d897f0",
   "metadata": {},
   "outputs": [],
   "source": [
    "import numpy as np\n",
    "import random\n",
    "import gym\n",
    "import matplotlib.pyplot as plt\n",
    "from collections import deque\n",
    "import tensorflow as tf\n",
    "from tensorflow.keras import models, layers, optimizers"
   ]
  },
  {
   "cell_type": "markdown",
   "id": "f589fc06",
   "metadata": {},
   "source": [
    "## Environment setup"
   ]
  },
  {
   "cell_type": "code",
   "execution_count": null,
   "id": "79e5c578",
   "metadata": {},
   "outputs": [],
   "source": [
    "class DQNAgent:\n",
    "    def __init__(self, state_size, action_size):\n",
    "        self.state_size = state_size\n",
    "        self.action_size = action_size\n",
    "\n",
    "        self.gamma = 0.99\n",
    "        self.epsilon = 1.0\n",
    "        self.epsilon_min = 0.01\n",
    "        self.epsilon_decay = 0.995\n",
    "        self.learning_rate = 0.001\n",
    "        self.batch_size = 64\n",
    "        self.memory = deque(maxlen=100_000)\n",
    "\n",
    "        self.model = self.build_model()\n",
    "\n",
    "    def build_model(self):\n",
    "        model = models.Sequential()\n",
    "        model.add(layers.Dense(128, input_dim=self.state_size, activation='relu'))\n",
    "        model.add(layers.Dense(128, activation='relu'))\n",
    "        model.add(layers.Dense(self.action_size, activation='linear'))\n",
    "        model.compile(loss='mse', optimizer=optimizers.Adam(learning_rate=self.learning_rate))\n",
    "        return model\n",
    "\n",
    "    def remember(self, state, action, reward, next_state, done):\n",
    "        self.memory.append((state, action, reward, next_state, done))\n",
    "\n",
    "    def act(self, state):\n",
    "        if np.random.rand() < self.epsilon:\n",
    "            return random.randrange(self.action_size)\n",
    "        q_values = self.model.predict(np.expand_dims(state, axis=0), verbose=0)\n",
    "        return np.argmax(q_values[0])\n",
    "\n",
    "    def replay(self):\n",
    "        if len(self.memory) < self.batch_size:\n",
    "            return\n",
    "        minibatch = random.sample(self.memory, self.batch_size)\n",
    "        states, targets = [], []\n",
    "\n",
    "        for state, action, reward, next_state, done in minibatch:\n",
    "            target = self.model.predict(np.expand_dims(state, axis=0), verbose=0)[0]\n",
    "            if done:\n",
    "                target[action] = reward\n",
    "            else:\n",
    "                next_q = np.amax(self.model.predict(np.expand_dims(next_state, axis=0), verbose=0)[0])\n",
    "                target[action] = reward + self.gamma * next_q\n",
    "            states.append(state)\n",
    "            targets.append(target)\n",
    "\n",
    "        self.model.fit(np.array(states), np.array(targets), epochs=1, verbose=0)\n",
    "\n",
    "        if self.epsilon > self.epsilon_min:\n",
    "            self.epsilon *= self.epsilon_decay\n"
   ]
  },
  {
   "cell_type": "markdown",
   "id": "b427f632",
   "metadata": {},
   "source": [
    "## Agent Learning On LunarLander-v2"
   ]
  },
  {
   "cell_type": "code",
   "execution_count": null,
   "id": "fb1002d1",
   "metadata": {},
   "outputs": [],
   "source": [
    "env = gym.make(\"LunarLander-v2\")\n",
    "\n",
    "state_size = env.observation_space.shape[0]\n",
    "action_size = env.action_space.n\n",
    "agent = DQNAgent(state_size, action_size)\n",
    "\n",
    "episodes = 500\n",
    "scores = []\n",
    "\n",
    "for e in range(episodes):\n",
    "    state = env.reset()\n",
    "    total_reward = 0\n",
    "    done = False\n",
    "\n",
    "    while not done:\n",
    "        action = agent.act(state)\n",
    "        next_state, reward, done, _, _ = env.step(action)\n",
    "        agent.remember(state, action, reward, next_state, done)\n",
    "        state = next_state\n",
    "        total_reward += reward\n",
    "        agent.replay()\n",
    "\n",
    "    scores.append(total_reward)\n",
    "    print(f\"Episode {e+1}/{episodes} - Reward: {total_reward:.2f} - Epsilon: {agent.epsilon:.4f}\")\n",
    "\n",
    "# Save the model\n",
    "agent.model.save(\"dqn_lunarlander_model.h5\")"
   ]
  },
  {
   "cell_type": "markdown",
   "id": "ad4d4b4a",
   "metadata": {},
   "source": [
    "## Reward Plot"
   ]
  },
  {
   "cell_type": "code",
   "execution_count": null,
   "id": "b43a214b",
   "metadata": {},
   "outputs": [],
   "source": [
    "plt.figure(figsize=(12, 6))\n",
    "plt.plot(scores, label=\"Episode Reward\")\n",
    "plt.xlabel(\"Episode\")\n",
    "plt.ylabel(\"Reward\")\n",
    "plt.title(\"DQN Training - LunarLander\")\n",
    "plt.legend()\n",
    "plt.grid()\n",
    "plt.show()"
   ]
  },
  {
   "cell_type": "markdown",
   "id": "851cbbbf",
   "metadata": {},
   "source": [
    "## Testing the MODEL"
   ]
  },
  {
   "cell_type": "code",
   "execution_count": null,
   "id": "6fd7bc16",
   "metadata": {},
   "outputs": [],
   "source": [
    "model = tf.keras.models.load_model(\"dqn_lunarlander_model.h5\")\n",
    "test_episodes = 10\n",
    "test_rewards = []\n",
    "\n",
    "for e in range(test_episodes):\n",
    "    state = env.reset()\n",
    "    total_reward = 0\n",
    "    done = False\n",
    "    while not done:\n",
    "        q_values = model.predict(np.expand_dims(state, axis=0), verbose=0)\n",
    "        action = np.argmax(q_values[0])\n",
    "        next_state, reward, done, _, _ = env.step(action)\n",
    "        state = next_state\n",
    "        total_reward += reward\n",
    "    test_rewards.append(total_reward)\n",
    "    print(f\"Test Episode {e+1} - Reward: {total_reward:.2f}\")\n",
    "\n",
    "print(f\"\\nAverage Test Reward over {test_episodes} episodes: {np.mean(test_rewards):.2f}\")\n"
   ]
  }
 ],
 "metadata": {
  "kernelspec": {
   "display_name": "Python 3",
   "language": "python",
   "name": "python3"
  },
  "language_info": {
   "codemirror_mode": {
    "name": "ipython",
    "version": 3
   },
   "file_extension": ".py",
   "mimetype": "text/x-python",
   "name": "python",
   "nbconvert_exporter": "python",
   "pygments_lexer": "ipython3",
   "version": "3.11.4"
  }
 },
 "nbformat": 4,
 "nbformat_minor": 5
}
