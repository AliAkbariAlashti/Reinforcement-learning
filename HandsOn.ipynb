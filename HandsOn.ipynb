{
 "cells": [
  {
   "cell_type": "markdown",
   "id": "4c40c019",
   "metadata": {},
   "source": [
    "# Hands On SARSA and Q-learning"
   ]
  },
  {
   "cell_type": "code",
   "execution_count": 24,
   "id": "242f1c0c",
   "metadata": {},
   "outputs": [],
   "source": [
    "import numpy as np\n",
    "import random\n",
    "import matplotlib.pyplot as plt"
   ]
  },
  {
   "cell_type": "markdown",
   "id": "5a15ad08",
   "metadata": {},
   "source": [
    "## Grid World"
   ]
  },
  {
   "cell_type": "markdown",
   "id": "edff3fba",
   "metadata": {},
   "source": [
    "### Environment setup (Grid World)"
   ]
  },
  {
   "cell_type": "code",
   "execution_count": 25,
   "id": "9c1fb567",
   "metadata": {},
   "outputs": [],
   "source": [
    "GRID_SIZE = 5\n",
    "GOAL_STATE = (4, 4)\n",
    "ACTIONS = [\"up\", \"down\", \"left\", \"right\"]\n",
    "NUM_ACTIONS = len(ACTIONS)"
   ]
  },
  {
   "cell_type": "markdown",
   "id": "2242de7b",
   "metadata": {},
   "source": [
    "### Hyperparameters "
   ]
  },
  {
   "cell_type": "code",
   "execution_count": 26,
   "id": "13a677e7",
   "metadata": {},
   "outputs": [],
   "source": [
    "ALPHA = 0.1\n",
    "GAMMA = 0.9\n",
    "EPSILON = 0.1\n",
    "EPISODES = 1000"
   ]
  },
  {
   "cell_type": "markdown",
   "id": "a519ae61",
   "metadata": {},
   "source": [
    "### Transition Function "
   ]
  },
  {
   "cell_type": "code",
   "execution_count": 27,
   "id": "48ae7509",
   "metadata": {},
   "outputs": [],
   "source": [
    "def step(state, action):\n",
    "    x, y = state\n",
    "    if action == \"up\" and x > 0:\n",
    "        x -= 1\n",
    "    elif action == \"down\" and x < GRID_SIZE - 1:\n",
    "        x += 1\n",
    "    elif action == \"left\" and y > 0:\n",
    "        y -= 1\n",
    "    elif action == \"right\" and y < GRID_SIZE - 1:\n",
    "        y += 1\n",
    "    new_state = (x, y)\n",
    "    reward = 10 if new_state == GOAL_STATE else -1\n",
    "    done = new_state == GOAL_STATE\n",
    "    return new_state, reward, done"
   ]
  },
  {
   "cell_type": "markdown",
   "id": "139a741a",
   "metadata": {},
   "source": [
    "### Policy"
   ]
  },
  {
   "cell_type": "code",
   "execution_count": 28,
   "id": "d5dc2ea0",
   "metadata": {},
   "outputs": [],
   "source": [
    "def choose_action(state, q_table):\n",
    "    if random.uniform(0, 1) < EPSILON:\n",
    "        return random.choice(ACTIONS)\n",
    "    else:\n",
    "        state_idx = state[0] * GRID_SIZE + state[1]\n",
    "        return ACTIONS[np.argmax(q_table[state_idx])]"
   ]
  },
  {
   "cell_type": "markdown",
   "id": "0800f55d",
   "metadata": {},
   "source": [
    "### SARSA"
   ]
  },
  {
   "cell_type": "code",
   "execution_count": 29,
   "id": "80bbdd3a",
   "metadata": {},
   "outputs": [],
   "source": [
    "def sarsa():\n",
    "    q_table = np.zeros((GRID_SIZE * GRID_SIZE, NUM_ACTIONS))\n",
    "    rewards = []\n",
    "    for episode in range(EPISODES):\n",
    "        state = (0, 0)\n",
    "        action = choose_action(state, q_table)\n",
    "        total_reward = 0\n",
    "        while True:\n",
    "            next_state, reward, done = step(state, action)\n",
    "            next_action = choose_action(next_state, q_table)\n",
    "            state_idx = state[0] * GRID_SIZE + state[1]\n",
    "            next_state_idx = next_state[0] * GRID_SIZE + next_state[1]\n",
    "            action_idx = ACTIONS.index(action)\n",
    "            next_action_idx = ACTIONS.index(next_action)\n",
    "            q_table[state_idx, action_idx] += ALPHA * (\n",
    "                reward + GAMMA * q_table[next_state_idx, next_action_idx] - q_table[state_idx, action_idx]\n",
    "            )\n",
    "            state = next_state\n",
    "            action = next_action\n",
    "            total_reward += reward\n",
    "            if done:\n",
    "                break\n",
    "        rewards.append(total_reward)\n",
    "    return q_table, rewards"
   ]
  },
  {
   "cell_type": "markdown",
   "id": "8ff7f72d",
   "metadata": {},
   "source": [
    "### Q-Learning"
   ]
  },
  {
   "cell_type": "code",
   "execution_count": 30,
   "id": "2f186bd9",
   "metadata": {},
   "outputs": [],
   "source": [
    "def q_learning():\n",
    "    q_table = np.zeros((GRID_SIZE * GRID_SIZE, NUM_ACTIONS))\n",
    "    rewards = []\n",
    "    for episode in range(EPISODES):\n",
    "        state = (0, 0)\n",
    "        total_reward = 0\n",
    "        while True:\n",
    "            action = choose_action(state, q_table)\n",
    "            next_state, reward, done = step(state, action)\n",
    "            state_idx = state[0] * GRID_SIZE + state[1]\n",
    "            next_state_idx = next_state[0] * GRID_SIZE + next_state[1]\n",
    "            action_idx = ACTIONS.index(action)\n",
    "            q_table[state_idx, action_idx] += ALPHA * (\n",
    "                reward + GAMMA * np.max(q_table[next_state_idx]) - q_table[state_idx, action_idx]\n",
    "            )\n",
    "            state = next_state\n",
    "            total_reward += reward\n",
    "            if done:\n",
    "                break\n",
    "        rewards.append(total_reward)\n",
    "    return q_table, rewards"
   ]
  },
  {
   "cell_type": "markdown",
   "id": "b4d7a18b",
   "metadata": {},
   "source": [
    "### Runing Algorithms"
   ]
  },
  {
   "cell_type": "code",
   "execution_count": 31,
   "id": "0255bb9b",
   "metadata": {},
   "outputs": [
    {
     "name": "stdout",
     "output_type": "stream",
     "text": [
      "SARSA...\n",
      "Q-Learning...\n"
     ]
    }
   ],
   "source": [
    "print(\"SARSA...\")\n",
    "q_table_sarsa, rewards_sarsa = sarsa()\n",
    "print(\"Q-Learning...\")\n",
    "q_table_q, rewards_q = q_learning()"
   ]
  },
  {
   "cell_type": "markdown",
   "id": "74517f5b",
   "metadata": {},
   "source": [
    "### Learning Plots"
   ]
  },
  {
   "cell_type": "code",
   "execution_count": 32,
   "id": "7ea6be71",
   "metadata": {},
   "outputs": [
    {
     "data": {
      "image/png": "[encoded data removed]",
      "text/plain": [
       "<Figure size 640x480 with 1 Axes>"
      ]
     },
     "metadata": {},
     "output_type": "display_data"
    }
   ],
   "source": [
    "plt.plot(rewards_sarsa, label=\"SARSA\")\n",
    "plt.plot(rewards_q, label=\"Q-Learning\")\n",
    "plt.xlabel(\"Episode\")\n",
    "plt.ylabel(\"Cumulative Reward\")\n",
    "plt.title(\"Learning Curve\")\n",
    "plt.legend()\n",
    "plt.grid(True)\n",
    "plt.show()"
   ]
  },
  {
   "cell_type": "markdown",
   "id": "1db60d71",
   "metadata": {},
   "source": [
    "### Testing the Optimal Path"
   ]
  },
  {
   "cell_type": "code",
   "execution_count": 33,
   "id": "96a7bf79",
   "metadata": {},
   "outputs": [
    {
     "name": "stdout",
     "output_type": "stream",
     "text": [
      "\n",
      " SARSA Optimal Path :\n",
      "Optimal Path: [(0, 0), (0, 1), (1, 1), (1, 2), (2, 2), (3, 2), (3, 3), (3, 4), (4, 4)]\n",
      "\n",
      " Q-Learning Optimal Path:\n",
      "Optimal Path: [(0, 0), (0, 1), (0, 2), (1, 2), (1, 3), (2, 3), (2, 4), (3, 4), (4, 4)]\n"
     ]
    }
   ],
   "source": [
    "def print_optimal_path(q_table):\n",
    "    state = (0, 0)\n",
    "    path = [state]\n",
    "    while state != GOAL_STATE:\n",
    "        state_idx = state[0] * GRID_SIZE + state[1]\n",
    "        action = ACTIONS[np.argmax(q_table[state_idx])]\n",
    "        state, _, done = step(state, action)\n",
    "        path.append(state)\n",
    "        if done:\n",
    "            break\n",
    "    print(\"Optimal Path:\", path)\n",
    "\n",
    "print(\"\\n SARSA Optimal Path :\")\n",
    "print_optimal_path(q_table_sarsa)\n",
    "print(\"\\n Q-Learning Optimal Path:\")\n",
    "print_optimal_path(q_table_q)"
   ]
  },
  {
   "cell_type": "markdown",
   "id": "31ea546c",
   "metadata": {},
   "source": [
    "## Taxi-v3"
   ]
  },
  {
   "cell_type": "code",
   "execution_count": 34,
   "id": "f7c7ead5",
   "metadata": {},
   "outputs": [],
   "source": [
    "import gym"
   ]
  },
  {
   "cell_type": "markdown",
   "id": "63b2d788",
   "metadata": {},
   "source": [
    "### Hyperparameters"
   ]
  },
  {
   "cell_type": "code",
   "execution_count": 35,
   "id": "4abaf40f",
   "metadata": {},
   "outputs": [],
   "source": [
    "GAMMA = 0.9\n",
    "EPSILON = 0.1\n",
    "EPISODES = 5000"
   ]
  },
  {
   "cell_type": "markdown",
   "id": "5b8e8ec3",
   "metadata": {},
   "source": [
    "### Environment setup"
   ]
  },
  {
   "cell_type": "code",
   "execution_count": 36,
   "id": "3a9f3361",
   "metadata": {},
   "outputs": [],
   "source": [
    "env = gym.make(\"Taxi-v3\")\n",
    "NUM_STATES = env.observation_space.n\n",
    "NUM_ACTIONS = env.action_space.n"
   ]
  },
  {
   "cell_type": "markdown",
   "id": "bf5df307",
   "metadata": {},
   "source": [
    "### Policy (epsilon-greedy)"
   ]
  },
  {
   "cell_type": "code",
   "execution_count": 37,
   "id": "4d7df7a9",
   "metadata": {},
   "outputs": [],
   "source": [
    "def choose_action(state, q_table):\n",
    "    if random.uniform(0, 1) < EPSILON:\n",
    "        return env.action_space.sample()\n",
    "    else:\n",
    "        return np.argmax(q_table[state])"
   ]
  },
  {
   "cell_type": "markdown",
   "id": "3d7575c6",
   "metadata": {},
   "source": [
    "### SARSA"
   ]
  },
  {
   "cell_type": "code",
   "execution_count": 38,
   "id": "efe88097",
   "metadata": {},
   "outputs": [],
   "source": [
    "def sarsa(alpha):\n",
    "    q_table = np.zeros((NUM_STATES, NUM_ACTIONS))\n",
    "    for episode in range(EPISODES):\n",
    "        state, _ = env.reset()\n",
    "        action = choose_action(state, q_table)\n",
    "        while True:\n",
    "            next_state, reward, terminated, truncated, _ = env.step(action)\n",
    "            done = terminated or truncated\n",
    "            next_action = choose_action(next_state, q_table)\n",
    "            q_table[state, action] += alpha * (\n",
    "                reward + GAMMA * q_table[next_state, next_action] - q_table[state, action]\n",
    "            )\n",
    "            state = next_state\n",
    "            action = next_action\n",
    "            if done:\n",
    "                break\n",
    "    return q_table"
   ]
  },
  {
   "cell_type": "markdown",
   "id": "42ae00db",
   "metadata": {},
   "source": [
    "### Q-Learning"
   ]
  },
  {
   "cell_type": "code",
   "execution_count": 39,
   "id": "aef03e02",
   "metadata": {},
   "outputs": [],
   "source": [
    "def q_learning(alpha):\n",
    "    q_table = np.zeros((NUM_STATES, NUM_ACTIONS))\n",
    "    for episode in range(EPISODES):\n",
    "        state, _ = env.reset()\n",
    "        while True:\n",
    "            action = choose_action(state, q_table)\n",
    "            next_state, reward, terminated, truncated, _ = env.step(action)\n",
    "            done = terminated or truncated\n",
    "            q_table[state, action] += alpha * (\n",
    "                reward + GAMMA * np.max(q_table[next_state]) - q_table[state, action]\n",
    "            )\n",
    "            state = next_state\n",
    "            if done:\n",
    "                break\n",
    "    return q_table"
   ]
  },
  {
   "cell_type": "markdown",
   "id": "d0a1c9eb",
   "metadata": {},
   "source": [
    "### Reward Evaluation"
   ]
  },
  {
   "cell_type": "code",
   "execution_count": 40,
   "id": "26893b0c",
   "metadata": {},
   "outputs": [],
   "source": [
    "def evaluate(q_table, episodes=100):\n",
    "    total_reward = 0\n",
    "    for _ in range(episodes):\n",
    "        state, _ = env.reset()\n",
    "        while True:\n",
    "            action = np.argmax(q_table[state])\n",
    "            state, reward, terminated, truncated, _ = env.step(action)\n",
    "            done = terminated or truncated\n",
    "            total_reward += reward\n",
    "            if done:\n",
    "                break\n",
    "    return total_reward / episodes"
   ]
  },
  {
   "cell_type": "markdown",
   "id": "a44db83a",
   "metadata": {},
   "source": [
    "### Runing Algos"
   ]
  },
  {
   "cell_type": "code",
   "execution_count": 41,
   "id": "2a029485",
   "metadata": {},
   "outputs": [],
   "source": [
    "alpha_values = [0.01, 0.05, 0.1, 0.3, 0.5, 0.7, 0.9]\n",
    "sarsa_rewards = []\n",
    "q_learning_rewards = []"
   ]
  },
  {
   "cell_type": "code",
   "execution_count": 42,
   "id": "7d3c7076",
   "metadata": {},
   "outputs": [
    {
     "name": "stdout",
     "output_type": "stream",
     "text": [
      "Running SARSA with alpha=0.01...\n"
     ]
    },
    {
     "name": "stderr",
     "output_type": "stream",
     "text": [
      "c:\\Users\\Aliak\\AppData\\Local\\Programs\\Python\\Python311\\Lib\\site-packages\\gym\\utils\\passive_env_checker.py:233: DeprecationWarning: `np.bool8` is a deprecated alias for `np.bool_`.  (Deprecated NumPy 1.24)\n",
      "  if not isinstance(terminated, (bool, np.bool8)):\n"
     ]
    },
    {
     "name": "stdout",
     "output_type": "stream",
     "text": [
      "Running Q-Learning with alpha=0.01...\n",
      "Running SARSA with alpha=0.05...\n",
      "Running Q-Learning with alpha=0.05...\n",
      "Running SARSA with alpha=0.1...\n",
      "Running Q-Learning with alpha=0.1...\n",
      "Running SARSA with alpha=0.3...\n",
      "Running Q-Learning with alpha=0.3...\n",
      "Running SARSA with alpha=0.5...\n",
      "Running Q-Learning with alpha=0.5...\n",
      "Running SARSA with alpha=0.7...\n",
      "Running Q-Learning with alpha=0.7...\n",
      "Running SARSA with alpha=0.9...\n",
      "Running Q-Learning with alpha=0.9...\n"
     ]
    }
   ],
   "source": [
    "for alpha in alpha_values:\n",
    "    print(f\"Running SARSA with alpha={alpha}...\")\n",
    "    q_sarsa = sarsa(alpha)\n",
    "    avg_reward_sarsa = evaluate(q_sarsa)\n",
    "    sarsa_rewards.append(avg_reward_sarsa)\n",
    "\n",
    "    print(f\"Running Q-Learning with alpha={alpha}...\")\n",
    "    q_qlearn = q_learning(alpha)\n",
    "    avg_reward_qlearn = evaluate(q_qlearn)\n",
    "    q_learning_rewards.append(avg_reward_qlearn)"
   ]
  },
  {
   "cell_type": "markdown",
   "id": "725e307e",
   "metadata": {},
   "source": [
    "### Plots"
   ]
  },
  {
   "cell_type": "code",
   "execution_count": 43,
   "id": "5a005afc",
   "metadata": {},
   "outputs": [
    {
     "data": {
      "image/png": "[encoded data removed]",
      "text/plain": [
       "<Figure size 1000x600 with 1 Axes>"
      ]
     },
     "metadata": {},
     "output_type": "display_data"
    }
   ],
   "source": [
    "plt.figure(figsize=(10, 6))\n",
    "plt.plot(alpha_values, sarsa_rewards, marker='o', label='SARSA')\n",
    "plt.plot(alpha_values, q_learning_rewards, marker='s', label='Q-Learning')\n",
    "plt.xlabel('Learning Rate (alpha)')\n",
    "plt.ylabel('Average Reward')\n",
    "plt.title('Comparison of SARSA and Q-Learning over different alpha values')\n",
    "plt.legend()\n",
    "plt.grid(True)\n",
    "plt.tight_layout()\n",
    "plt.show()"
   ]
  }
 ],
 "metadata": {
  "kernelspec": {
   "display_name": "Python 3",
   "language": "python",
   "name": "python3"
  },
  "language_info": {
   "codemirror_mode": {
    "name": "ipython",
    "version": 3
   },
   "file_extension": ".py",
   "mimetype": "text/x-python",
   "name": "python",
   "nbconvert_exporter": "python",
   "pygments_lexer": "ipython3",
   "version": "3.11.4"
  }
 },
 "nbformat": 4,
 "nbformat_minor": 5
}
